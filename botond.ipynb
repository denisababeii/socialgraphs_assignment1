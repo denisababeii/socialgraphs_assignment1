{
 "cells": [
  {
   "cell_type": "markdown",
   "id": "bbeb17e5",
   "metadata": {},
   "source": [
    "## Assignment 1.1: Exploring WS and BA models"
   ]
  },
  {
   "cell_type": "markdown",
   "id": "4374e42a",
   "metadata": {},
   "source": [
    "**What's the problem with random networks as a model for real-world networks according to the argument in section 3.5 (near the end)?**"
   ]
  },
  {
   "cell_type": "markdown",
   "id": "2e3741bf",
   "metadata": {},
   "source": [
    "The problem with random networks is that they don't predict the real world well. The expected maximum and minimum degree of nodes lies around the average degree. This contrasts the observation of the real world where so-called hubs with a larger amount of links, and also nodes with a very low amount of links are much more common in real world networks compared to random ones."
   ]
  },
  {
   "cell_type": "markdown",
   "id": "c15777f2",
   "metadata": {},
   "source": [
    "**List the four regimes that characterize random networks as a function of  ⟨k⟩\n",
    " .**"
   ]
  },
  {
   "cell_type": "markdown",
   "id": "ca44b02e",
   "metadata": {},
   "source": [
    "The four regimes characterizing random networks are the following:\n",
    "\n",
    "### Subcritical Regime: 0 ‹ ‹k› ‹ 1\n",
    "The network consists of several tiny connected components, but there is no emergence of a giant one. The size of the largest component increases slower than the size of the network. As a result this relative size of the largest component is zero (as we increase N).\n",
    "\n",
    "### Critical Point: ‹k› = 1 \n",
    "A \"phase change\" occurs here with the emergence of a giant component after ‹k› > 1. It is important to note that at this point the relative size of the larges component is still zero (as we increase N). \n",
    "\n",
    "### Supercritical Regime: ‹k› › 1\n",
    "There is a giant component that looks like a network, and contains a small fraction of the nodes. This giant component coexists with smaller isolated components.\n",
    "\n",
    "### Connected Regime: ‹k› › lnN \n",
    "In this regime the giant component includes all nodes, and the network is connected.\n"
   ]
  },
  {
   "cell_type": "markdown",
   "id": "2b0213e0",
   "metadata": {},
   "source": [
    "**According to the book, why is it a problem for random networks (in terms of being a model for real-world networks) that the degree-dependent clustering  C(k) decreases as a function of  k\n",
    "in real-world networks?**"
   ]
  },
  {
   "cell_type": "markdown",
   "id": "7ae21fba",
   "metadata": {},
   "source": [
    "Because this observation within real world networks (e.g. protein interactions, science collaboration, etc.) is in contrast with the predictions of the random network, which shows that this *shouldn't* decrease. Random networks predict that the clustering coefficient is not dependent on k. This is also well illustrated in the book in Section 3.9 Image 3.13."
   ]
  },
  {
   "cell_type": "markdown",
   "id": "fed5828b",
   "metadata": {},
   "source": [
    "**First, let's use networkx to play around with WS graphs. Use nx.watts_strogatz_graph to generate 3 graphs with 500 nodes each, average degree = 4, and rewiring probablity  p=0,0.1,\n",
    "  and  1\n",
    " . Calculate the average shortest path length  ⟨d⟩\n",
    "  for each one.**"
   ]
  },
  {
   "cell_type": "code",
   "execution_count": 1,
   "id": "161817ab",
   "metadata": {},
   "outputs": [],
   "source": [
    "import networkx as nx\n",
    "G1 = nx.watts_strogatz_graph(500, 4, 0)\n",
    "G2 = nx.watts_strogatz_graph(500, 4, 0.1)\n",
    "G3 = nx.watts_strogatz_graph(500, 4, 1)"
   ]
  },
  {
   "cell_type": "code",
   "execution_count": 17,
   "id": "b7190f34",
   "metadata": {},
   "outputs": [
    {
     "name": "stdout",
     "output_type": "stream",
     "text": [
      "Average shortest path for p=0, 0.1, 1: (62.875751503006015, 7.772569138276553, 4.764112224448898)\n"
     ]
    }
   ],
   "source": [
    "avg_shortest_path_G1 = nx.average_shortest_path_length(G1)\n",
    "avg_shortest_path_G2 = nx.average_shortest_path_length(G2)\n",
    "avg_shortest_path_G3 = nx.average_shortest_path_length(G3)\n",
    "\n",
    "print(f\"Average shortest path for p=0, 0.1, 1: {avg_shortest_path_G1, avg_shortest_path_G2, avg_shortest_path_G3}\")"
   ]
  },
  {
   "cell_type": "markdown",
   "id": "b7094ce5",
   "metadata": {},
   "source": [
    "**Describe what happens to the network when  p=1.**"
   ]
  },
  {
   "cell_type": "markdown",
   "id": "30da626c",
   "metadata": {},
   "source": [
    "With p=1 we get essentially a random network, as every link is rewired from the original lattice structure. We can observe the average shortest path decreasing which shows how the random network is able to model the small world property better."
   ]
  },
  {
   "cell_type": "markdown",
   "id": "91dfc699",
   "metadata": {},
   "source": [
    "**Generate a lot of networks with different values of  p\n",
    " . You will notice that paths are short when  p\n",
    "  is close to one and they are long when  p=0\n",
    " . What's the value of  p\n",
    "  for which the average shortest path length gets close to the short paths we find in a fully randomized network.**"
   ]
  },
  {
   "cell_type": "code",
   "execution_count": null,
   "id": "9d1b369b",
   "metadata": {},
   "outputs": [],
   "source": [
    "import random\n",
    "prob_findings = {}\n",
    "prob = 0.00\n",
    "#try 100 different probabilities from 0 to 1\n",
    "for i in range(100):\n",
    "    G = nx.watts_strogatz_graph(500, 4, prob)\n",
    "    prob_findings[prob] = nx.average_shortest_path_length(G)\n",
    "    prob += 0.01"
   ]
  },
  {
   "cell_type": "code",
   "execution_count": 21,
   "id": "efee830d",
   "metadata": {},
   "outputs": [],
   "source": [
    "sorted_probs = sorted(list(prob_findings.items()), key=lambda x: x[0])\n"
   ]
  },
  {
   "cell_type": "markdown",
   "id": "e9d9205b",
   "metadata": {},
   "source": [
    "Let's define being \"close\" in terms of length as the length of the paths are within 1."
   ]
  },
  {
   "cell_type": "code",
   "execution_count": 20,
   "id": "f96d4763",
   "metadata": {},
   "outputs": [
    {
     "name": "stdout",
     "output_type": "stream",
     "text": [
      "p value close to p=1 average shortest path at probability 0.26000000000000006 with average shortest path 5.6545571142284565\n"
     ]
    }
   ],
   "source": [
    "for p in sorted_probs:\n",
    "    if abs(p[1] - avg_shortest_path_G3) < 1:\n",
    "        print(f\"p value close to p=1 average shortest path at probability {p[0]} with average shortest path {p[1]}\")\n",
    "        break"
   ]
  },
  {
   "cell_type": "markdown",
   "id": "92202828",
   "metadata": {},
   "source": [
    "At already p=0.26 we are within 1 distance of the average shortest path of the fully random network. The closer we get to p=1, the closer the average shortest path is to the one observed in random networks"
   ]
  },
  {
   "cell_type": "markdown",
   "id": "cf790d99",
   "metadata": {},
   "source": [
    "**Let's investigate this behavior in detail. Generate 50 networks with  N=500\n",
    " ,  ⟨k⟩=4\n",
    " , for each of  p={0,0.01,0.03,0.05,0.1,0.2}\n",
    " . Calculate the average of  ⟨d⟩\n",
    "  as well as the standard deviation over the 50 networks, to create a plot that shows how the path length decreases very quickly with only a little fraction of re-wiring. Use the standard deviation to add errorbars to the plot.**"
   ]
  },
  {
   "cell_type": "code",
   "execution_count": 23,
   "id": "46df8c94",
   "metadata": {},
   "outputs": [],
   "source": [
    "import numpy as np\n",
    "probs = [0, 0.01, 0.03, 0.05, 0.1, 0.2 ]\n",
    "prob_findings = {}\n",
    "\n",
    "for p in probs:\n",
    "    samples = []\n",
    "    #50 samples for each probability\n",
    "    for i in range(50):\n",
    "        G = nx.watts_strogatz_graph(500, 4, p)\n",
    "        samples.append(nx.average_shortest_path_length(G))\n",
    "\n",
    "    avg_path = np.mean(samples)\n",
    "    std_path = np.std(samples)\n",
    "    prob_findings[p] = (avg_path, std_path)\n",
    "\n"
   ]
  },
  {
   "cell_type": "code",
   "execution_count": 24,
   "id": "7da64fee",
   "metadata": {},
   "outputs": [
    {
     "name": "stdout",
     "output_type": "stream",
     "text": [
      "{0: (np.float64(62.87575150300602), np.float64(7.105427357601002e-15)), 0.01: (np.float64(24.125293787575153), np.float64(5.092803301453433)), 0.03: (np.float64(13.220029498997997), np.float64(1.5317102809957828)), 0.05: (np.float64(10.315917915831665), np.float64(0.6908600496284696)), 0.1: (np.float64(7.708141883767535), np.float64(0.28001559493279776)), 0.2: (np.float64(6.10784144288577), np.float64(0.11527495404397985))}\n"
     ]
    }
   ],
   "source": [
    "print(f\"{prob_findings}\")"
   ]
  },
  {
   "cell_type": "code",
   "execution_count": null,
   "id": "87c4148b",
   "metadata": {},
   "outputs": [
    {
     "data": {
      "text/plain": [
       "Text(0, 0.5, 'Average Shortest Path Length')"
      ]
     },
     "execution_count": 6,
     "metadata": {},
     "output_type": "execute_result"
    },
    {
     "data": {
      "image/png": "[encoded data removed]",
      "text/plain": [
       "<Figure size 640x480 with 1 Axes>"
      ]
     },
     "metadata": {},
     "output_type": "display_data"
    }
   ],
   "source": [
    "from matplotlib import pyplot as plt\n",
    "x = list(prob_findings.keys())\n",
    "y = [prob_findings[p][0] for p in x] #average shortest path\n",
    "yerr = [prob_findings[p][1] for p in x] #std deviation for each\n",
    "plt.errorbar(x, y, yerr=yerr)\n",
    "plt.scatter(x, y, color='black')\n",
    "plt.xlabel('Rewiring Probability (p)')\n",
    "plt.ylabel('Average Shortest Path Length')"
   ]
  },
  {
   "cell_type": "markdown",
   "id": "eb97a9b4",
   "metadata": {},
   "source": [
    "The figure above shows how the average shortest path length decreases as we increase the rewiring probability. It is interesting to see how steep the initial decrease is from p=0 to p=0.05. This means with only a few rewirings we are able to capture the small world property significantly better."
   ]
  }
 ],
 "metadata": {
  "kernelspec": {
   "display_name": "dtuml",
   "language": "python",
   "name": "python3"
  },
  "language_info": {
   "codemirror_mode": {
    "name": "ipython",
    "version": 3
   },
   "file_extension": ".py",
   "mimetype": "text/x-python",
   "name": "python",
   "nbconvert_exporter": "python",
   "pygments_lexer": "ipython3",
   "version": "3.11.13"
  }
 },
 "nbformat": 4,
 "nbformat_minor": 5
}
